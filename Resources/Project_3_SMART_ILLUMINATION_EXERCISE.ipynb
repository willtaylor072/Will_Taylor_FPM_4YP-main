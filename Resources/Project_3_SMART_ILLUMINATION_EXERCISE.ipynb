{
 "cells": [
  {
   "cell_type": "markdown",
   "metadata": {},
   "source": [
    "# PROJECT 3: SMART ILLUMINATION - EXERCISE"
   ]
  },
  {
   "cell_type": "markdown",
   "metadata": {},
   "source": [
    "Now we are going to use what has been learnt in the previous notebook to get some smart illumination images."
   ]
  },
  {
   "cell_type": "markdown",
   "metadata": {},
   "source": [
    "## Initial variable and paths definitions\n",
    "We are going to first define some global variables and paths."
   ]
  },
  {
   "cell_type": "code",
   "execution_count": 1,
   "metadata": {},
   "outputs": [],
   "source": [
    "import os\n",
    "slide_name = \"test\"\n",
    "img_folder = \"images\"\n",
    "if not os.path.exists(img_folder):\n",
    "    os.makedirs(img_folder)"
   ]
  },
  {
   "cell_type": "markdown",
   "metadata": {},
   "source": [
    "## Import libraries"
   ]
  },
  {
   "cell_type": "code",
   "execution_count": 2,
   "metadata": {},
   "outputs": [],
   "source": [
    "import os\n",
    "from picamera2 import Picamera2, Preview\n",
    "from RPiLedMatrix import RPiLedMatrix\n",
    "import time\n",
    "import matplotlib.pyplot as plt\n",
    "from PIL import Image\n",
    "import numpy as np"
   ]
  },
  {
   "cell_type": "markdown",
   "metadata": {},
   "source": [
    "## Brightfield Limit\n",
    "We know that the effective numerical apperture of an LED in the array can be computed as: \n",
    "\n",
    "\\begin{equation}\n",
    "\\text{NA}_{\\mathrm{LED}} = \\frac{r}{\\sqrt{r^2+D^2}}\n",
    "\\end{equation}\n",
    "\n",
    "where $r$ is the distance from the LED to the optical axis of the objective and $D$ is the distance, along that axis, between the LED and the sample.\n",
    "\n",
    "Knowing that the array is a 16x16 LED array with 3.3 mm, and knowing that the NA of our objective if 0.1, find which LEDs need to be led to create a brighfield and a darkfield image.\n",
    "\n",
    "Now set the distance between your sample and the array at a reasonable D that optimizes the array for brightfield and darkfield imaging."
   ]
  },
  {
   "cell_type": "code",
   "execution_count": null,
   "metadata": {},
   "outputs": [],
   "source": []
  },
  {
   "cell_type": "markdown",
   "metadata": {},
   "source": [
    "## Define microscope imaging parameters\n",
    "\n",
    "It is always an important practice to know what is the size of the images that are being taken, essentially _what is the width and height of a pixel in the camera corresponds to in the actual object being imaged_. Another parameter is to know what is the field of view and depth of field of our imaging system. \n",
    "\n",
    "Of course this will depend on the objective, tube lens, and camera sensor. In our particular case:\n",
    "\n",
    "### Objective\n",
    "Our objective is an 4X Olympus Plan Achromat Objective, 0.10 NA, 18.5 mm WD (https://www.thorlabs.com/newgrouppage9.cfm?objectgroup_id=1044). The important parameters are:\n",
    "* 0.10 NA\n",
    "* 4X Magnification\n",
    "* Infinitely corrected\n",
    "* Reference Tube Focal Length (this is a manufacturer standard): 180 mm\n",
    "\n",
    "### Tube lens\n",
    "Our tube lens is a Thorlabs AC254-075-AB-ML (https://www.thorlabs.com/newgrouppage9.cfm?objectgroup_id=12804), a f = 75.0 mm, Ø1\" Achromatic Doublet, SM1-Threaded Mount, ARC: 400 - 1100 nm. The relevant parameters are:\n",
    "* f = 75 mm\n",
    "\n",
    "\n",
    "### Camera sensor\n",
    "The information about the camera sensor of the Raspberry Pi Camera Module v3 can be found in https://www.raspberrypi.com/products/camera-module-3/. The important features here are:\n",
    "\n",
    "* Back-illuminated, stacked CMOS 12-megapixel Sony IMX708 image sensor\n",
    "* Resolution: 11.9 megapixels\n",
    "* Sensor size: 7.4mm sensor diagonal\n",
    "* Pixel size: 1.4μm × 1.4μm\n",
    "* Horizontal/vertical: 4608 × 2592 pixels\n",
    "\n",
    "### REFERENCE HELP\n",
    "For help on how to define the paramets of interest, a good reference is the Thorlabs tutorial on objectives (https://www.thorlabs.com/newgrouppage9.cfm?objectgroup_id=10764). \n",
    "\n",
    "The whole list of tutorials can be found in: https://www.thorlabs.com/navigation.cfm?guide_id=2400 "
   ]
  },
  {
   "cell_type": "markdown",
   "metadata": {},
   "source": [
    "## Magnification\n",
    "\n",
    "Find the system's effective magnification."
   ]
  },
  {
   "cell_type": "code",
   "execution_count": null,
   "metadata": {},
   "outputs": [],
   "source": []
  },
  {
   "cell_type": "markdown",
   "metadata": {},
   "source": [
    "## Pixel size in object unit\n",
    "\n",
    "Find the actualy width and height of each pixel of a taken image in object units."
   ]
  },
  {
   "cell_type": "code",
   "execution_count": null,
   "metadata": {},
   "outputs": [],
   "source": []
  },
  {
   "cell_type": "markdown",
   "metadata": {},
   "source": [
    "## Field of View\n",
    "\n",
    "Find the field of view of the system with the given camera."
   ]
  },
  {
   "cell_type": "code",
   "execution_count": null,
   "metadata": {},
   "outputs": [],
   "source": []
  },
  {
   "cell_type": "markdown",
   "metadata": {},
   "source": [
    "## Depth of Field\n",
    "\n",
    "Find the depth of field of the system with the given optical elements. \n",
    "\n",
    "After calculating it, ensure it is correct and matches your observations. For the latter, it can be useful to check the objective translation stage documentation: "
   ]
  },
  {
   "cell_type": "code",
   "execution_count": null,
   "metadata": {},
   "outputs": [],
   "source": []
  },
  {
   "cell_type": "markdown",
   "metadata": {},
   "source": [
    "## REMOVE ARTIFACTS\n",
    "You might have noticed that the images have some horizontal artifacts in the images. Think about what might be causing them and explore ways in which it can be fixed or corrected. Particularly, think about ways to collect the images to avoid having these artifacts. Later on we will explore how to correct an image that has been taken with the artifacts."
   ]
  },
  {
   "cell_type": "code",
   "execution_count": null,
   "metadata": {},
   "outputs": [],
   "source": []
  },
  {
   "cell_type": "markdown",
   "metadata": {},
   "source": [
    "## CAPTURE BRIGHFIELD IMAGE\n",
    "Capture a brighfield image."
   ]
  },
  {
   "cell_type": "code",
   "execution_count": null,
   "metadata": {},
   "outputs": [],
   "source": []
  },
  {
   "cell_type": "markdown",
   "metadata": {},
   "source": [
    "## CAPTURE DARKFIELD IMAGE\n",
    "Capture a darkfield image."
   ]
  },
  {
   "cell_type": "code",
   "execution_count": null,
   "metadata": {},
   "outputs": [],
   "source": []
  },
  {
   "cell_type": "markdown",
   "metadata": {},
   "source": [
    "## CAPTURE DPC IMAGE\n",
    "Capture the images to to Difference Phase Contrast."
   ]
  },
  {
   "cell_type": "code",
   "execution_count": null,
   "metadata": {},
   "outputs": [],
   "source": []
  },
  {
   "cell_type": "markdown",
   "metadata": {},
   "source": [
    "## PROCESS DPC IMAGE\n",
    "Obtain DPC image and comment on it."
   ]
  },
  {
   "cell_type": "code",
   "execution_count": null,
   "metadata": {},
   "outputs": [],
   "source": []
  },
  {
   "cell_type": "markdown",
   "metadata": {},
   "source": [
    "### DPC IMAGE II\n",
    "Make a second DPC image in the perpendicular direction from the original one (i.e. if you did left/right, do top/left and viceversa). What are the differences?"
   ]
  },
  {
   "cell_type": "code",
   "execution_count": null,
   "metadata": {},
   "outputs": [],
   "source": []
  },
  {
   "cell_type": "markdown",
   "metadata": {},
   "source": [
    "# EXTRA I: CORRECT ARTIFACTS IN IMAGE\n",
    "Explore ways to correct for the artifacts on images that have already been taken. As an example, you can use the image in _images_examples/spinal_cord_artifacts.png_"
   ]
  },
  {
   "cell_type": "code",
   "execution_count": null,
   "metadata": {},
   "outputs": [],
   "source": []
  },
  {
   "cell_type": "markdown",
   "metadata": {},
   "source": [
    "# EXTRA II: DPC IMAGE II\n",
    "As you have probably seen, the horizontal and vertical DPC images highlight different features of the sample. Think about a good way to retrieve and visually plot that information."
   ]
  },
  {
   "cell_type": "code",
   "execution_count": null,
   "metadata": {},
   "outputs": [],
   "source": []
  },
  {
   "cell_type": "markdown",
   "metadata": {},
   "source": [
    "# EXTRA III: FOURIER PTYCHOGRAPHY\n",
    "In this folder, look at the document titled \"Project3 - EXTRA - Fourier Ptychography\". Particularly, take a look to the references and the youtube video. After reading the documentation, use the system at hand to implement Fourier Ptychography."
   ]
  },
  {
   "cell_type": "code",
   "execution_count": null,
   "metadata": {},
   "outputs": [],
   "source": []
  },
  {
   "cell_type": "markdown",
   "metadata": {},
   "source": [
    "# EXTRA IV: ABERRATION CORRECTION IN DPC\n",
    "Using the principles of DPC, optical system aberrations can be computationally estimated and corrected, resultin in improved image quality. Using the following references, implement aberration correction for your microscope.\n",
    "\n",
    "And a good reference is: Michael Chen, Zachary F. Phillips, and Laura Waller, \"Quantitative differential phase contrast (DPC) microscopy with computational aberration correction,\" Opt. Express 26, 32888-32899 (2018) -- https://doi.org/10.1364/OE.26.032888 \n",
    "The code associated with this work can be found in the Waller Laboratory GitHub repository: https://github.com/Waller-Lab/DPC_withAberrationCorrection/tree/master/python_code"
   ]
  },
  {
   "cell_type": "code",
   "execution_count": null,
   "metadata": {},
   "outputs": [],
   "source": []
  }
 ],
 "metadata": {
  "kernelspec": {
   "display_name": "Python 3 (ipykernel)",
   "language": "python",
   "name": "python3"
  },
  "language_info": {
   "codemirror_mode": {
    "name": "ipython",
    "version": 3
   },
   "file_extension": ".py",
   "mimetype": "text/x-python",
   "name": "python",
   "nbconvert_exporter": "python",
   "pygments_lexer": "ipython3",
   "version": "3.11.2"
  }
 },
 "nbformat": 4,
 "nbformat_minor": 4
}
